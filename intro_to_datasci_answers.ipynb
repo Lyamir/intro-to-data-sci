{
 "cells": [
  {
   "cell_type": "markdown",
   "metadata": {},
   "source": [
    "# YBLL Workshop - Intro to Data Science\n",
    "## Hands-on: Exploratory Data Analysis with Pandas\n",
    "\n",
    "*By Carlos Doble*\n",
    "\n",
    "In this notebook, we will be using Pandas to perform one of the usual data science techniques: exploratory data analysis (EDA). This technique allows us to understand the data that we are handling better, gain insights from it, and know what data preprocessing (or data cleaning) steps we need to do before providing it to our machine learning model (oops, that's a spoiler).\n"
   ]
  },
  {
   "cell_type": "code",
   "execution_count": null,
   "metadata": {},
   "outputs": [],
   "source": [
    "## Install required libraries for this hands-on\n",
    "!pip install pandas\n",
    "!pip install numpy\n",
    "!pip install matplotlib"
   ]
  },
  {
   "cell_type": "code",
   "execution_count": null,
   "metadata": {},
   "outputs": [],
   "source": [
    "## Importing required libraries to the notebook\n",
    "import pandas as pd\n",
    "import numpy as np\n",
    "import matplotlib.pyplot as plt"
   ]
  },
  {
   "cell_type": "markdown",
   "metadata": {},
   "source": [
    "For the first part of the hands-on, you will be performing a guided EDA on a dataset, the Pokemon Dataset."
   ]
  },
  {
   "cell_type": "code",
   "execution_count": null,
   "metadata": {},
   "outputs": [],
   "source": [
    "df_pokemon = pd.read_csv('pokemon_final.csv') \n",
    "df_pokemon.head(9)"
   ]
  },
  {
   "cell_type": "markdown",
   "metadata": {
    "vscode": {
     "languageId": "javascript"
    }
   },
   "source": [
    "### Dataset Columns and Descriptions\n",
    "\n",
    "The dataset contains the following columns:\n",
    "\n",
    "| Column             | Description                                |\n",
    "|--------------------|--------------------------------------------|\n",
    "| `pokemon_id`     | Unique identifier for each Pokémon       |\n",
    "| `pokemon_name`   | Name of the Pokémon                       |\n",
    "| `species_id`     | Identifier for the species of the Pokémon |\n",
    "| `height`         | Height of the Pokémon in decimetres (1dm == 0.1m)      |\n",
    "| `weight`         | Weight of the Pokémon in hectograms (1hg == 0.1kg)       |\n",
    "| `type_1_name`    | Primary type of the Pokémon               |\n",
    "| `type_2_name`    | Secondary type of the Pokémon (if any)    |\n",
    "| `attack`         | Attack stat of the Pokémon                |\n",
    "| `defense`        | Defense stat of the Pokémon               |\n",
    "| `hp`             | Hit Points (HP) stat of the Pokémon       |\n",
    "| `special-attack` | Special Attack stat of the Pokémon        |\n",
    "| `special-defense`| Special Defense stat of the Pokémon       |\n",
    "| `speed`          | Speed stat of the Pokémon                 |"
   ]
  },
  {
   "cell_type": "markdown",
   "metadata": {},
   "source": [
    "Time to put our knowledge on descriptive statistics to good use. Finding the counts, minimum and maximum values, measures of central tendency, and measures of variability are usually the first steps in EDA."
   ]
  },
  {
   "cell_type": "code",
   "execution_count": null,
   "metadata": {},
   "outputs": [],
   "source": [
    "## Replace None values to find the min and max values for age\n",
    "min_height = df_pokemon['height'].min()\n",
    "max_height = df_pokemon['height'].max()\n",
    "\n",
    "print(\"Mininum value for height:\", min_height)\n",
    "print(\"Maximum value for height:\", max_height)"
   ]
  },
  {
   "cell_type": "code",
   "execution_count": null,
   "metadata": {},
   "outputs": [],
   "source": [
    "min_height_df = df_pokemon[df_pokemon['height'] == min_height]\n",
    "min_height_df"
   ]
  },
  {
   "cell_type": "code",
   "execution_count": null,
   "metadata": {},
   "outputs": [],
   "source": [
    "max_height_df = df_pokemon[df_pokemon['height'] == max_height]\n",
    "max_height_df"
   ]
  },
  {
   "cell_type": "code",
   "execution_count": null,
   "metadata": {},
   "outputs": [],
   "source": [
    "## Replace None values to find the min and max values for age\n",
    "min_attack = df_pokemon['attack'].min()\n",
    "max_attack = df_pokemon['attack'].max()\n",
    "\n",
    "print(\"Mininum value for attack:\", min_attack)\n",
    "print(\"Maximum value for attack:\", max_attack)"
   ]
  },
  {
   "cell_type": "code",
   "execution_count": null,
   "metadata": {},
   "outputs": [],
   "source": [
    "min_attack_df = df_pokemon[df_pokemon['attack'] == min_attack]\n",
    "min_attack_df"
   ]
  },
  {
   "cell_type": "code",
   "execution_count": null,
   "metadata": {},
   "outputs": [],
   "source": [
    "max_attack_df = df_pokemon[df_pokemon['attack'] == max_attack]\n",
    "max_attack_df"
   ]
  },
  {
   "cell_type": "markdown",
   "metadata": {},
   "source": [
    "## Quartiles"
   ]
  },
  {
   "cell_type": "code",
   "execution_count": null,
   "metadata": {},
   "outputs": [],
   "source": [
    "## Replace None values to find the first three quantiles\n",
    "q1_attack = df_pokemon['attack'].quantile(0.25)\n",
    "q2_attack = df_pokemon['attack'].quantile(0.50)\n",
    "q3_attack = df_pokemon['attack'].quantile(0.75)\n",
    "\n",
    "print(\"First quantile for attack:\", q1_attack)\n",
    "print(\"Second quantile for attack:\", q2_attack)\n",
    "print(\"Third quantile for attack:\", q3_attack)"
   ]
  },
  {
   "cell_type": "code",
   "execution_count": null,
   "metadata": {},
   "outputs": [],
   "source": [
    "## Plotting distribution of the age and its quantiles\n",
    "fig, ax = plt.subplots(figsize=(10, 5))\n",
    "ax = df_pokemon['attack'].dropna().plot.kde(c=\"#00aeef\")\n",
    "labels = {f'First quantile for age: {q1_attack}',\n",
    "          f'Second quantile for age: {q2_attack}',\n",
    "          f'Third quantile for age: {q3_attack}',\n",
    "          }\n",
    "handles, _ = ax.get_legend_handles_labels()\n",
    "handles.append(ax.axvline(x=q1_attack, c=\"#99cc33\", linestyle='dashed'))\n",
    "handles.append(ax.axvline(x=q2_attack, c=\"#99cc33\", linestyle='dashed'))\n",
    "handles.append(ax.axvline(x=q3_attack, c=\"#99cc33\", linestyle='dashed'))\n",
    "ax.legend(handles = handles[1:], labels = labels)"
   ]
  },
  {
   "cell_type": "markdown",
   "metadata": {},
   "source": [
    "## Measures of Central Tendency (Mean, Median, Mode)"
   ]
  },
  {
   "cell_type": "code",
   "execution_count": null,
   "metadata": {},
   "outputs": [],
   "source": [
    "## Replace None to get the mean for the age\n",
    "mean_attack = df_pokemon['attack'].mean()\n",
    "\n",
    "## Replace None to get the median for the age\n",
    "median_attack = df_pokemon['attack'].median()\n",
    "\n",
    "## Replace None to get the mode for the age\n",
    "mode_attack = df_pokemon['attack'].mode()\n",
    "\n",
    "print(f\"Mean attack: {mean_attack}\")\n",
    "print(f\"Median attack: {median_attack}\")\n",
    "print(f\"Mode attack: {mode_attack}\")"
   ]
  },
  {
   "cell_type": "markdown",
   "metadata": {},
   "source": [
    "## Measures of Variability (Range, IQR, Variance/Standard Deviation)"
   ]
  },
  {
   "cell_type": "code",
   "execution_count": null,
   "metadata": {},
   "outputs": [],
   "source": [
    "# Replace None to get the range of age\n",
    "range_attack = df_pokemon['attack'].max() - df_pokemon['attack'].min()\n",
    "\n",
    "## Replace None to get the IQR for age\n",
    "iqr_attack = df_pokemon['attack'].quantile(0.75) - df_pokemon['attack'].quantile(0.25)\n",
    "\n",
    "## Replace None to get the variance for age\n",
    "var_attack = df_pokemon['attack'].var()\n",
    "\n",
    "## Replace None to get the standard deviation for age\n",
    "std_attack = df_pokemon['attack'].std()\n",
    "\n",
    "print(f\"Range of attack: {range_attack}\")\n",
    "print(f\"IQR of attack: {iqr_attack}\")\n",
    "print(f\"Variance of attack: {var_attack}\")\n",
    "print(f\"Standard Deviation of attack: {std_attack}\")"
   ]
  },
  {
   "cell_type": "markdown",
   "metadata": {},
   "source": [
    "For the next cells, the notebook will provide some questions to be answered by EDA exercise. In reality, one of the skills a data scientist must have is to be curious enough in generating these questions (*don't be afraid to ask dumb questions as long as the data can answer it*)"
   ]
  },
  {
   "cell_type": "markdown",
   "metadata": {},
   "source": [
    "### Q1: What are the top 5 fastest Pokémon in the dataset?"
   ]
  },
  {
   "cell_type": "code",
   "execution_count": null,
   "metadata": {},
   "outputs": [],
   "source": [
    "top_5_fastest_pokemon = df_pokemon.sort_values(by='speed', ascending=False).head(5)\n",
    "top_5_fastest_pokemon"
   ]
  },
  {
   "cell_type": "markdown",
   "metadata": {},
   "source": [
    "### Q2: Does the weight of a Pokémon impact its speed stat?"
   ]
  },
  {
   "cell_type": "code",
   "execution_count": null,
   "metadata": {},
   "outputs": [],
   "source": [
    "correlation = df_pokemon['weight'].corr(df_pokemon['speed'])\n",
    "print(f\"Correlation between weight and speed: {correlation}\")"
   ]
  },
  {
   "cell_type": "code",
   "execution_count": null,
   "metadata": {},
   "outputs": [],
   "source": [
    "plt.figure(figsize=(10, 6))\n",
    "plt.scatter(df_pokemon['weight'], df_pokemon['speed'], alpha=0.5)\n",
    "plt.title('Correlation between Weight and Speed')\n",
    "plt.xlabel('Weight')\n",
    "plt.ylabel('Speed')\n",
    "plt.grid(True)\n",
    "plt.show()"
   ]
  },
  {
   "cell_type": "markdown",
   "metadata": {},
   "source": [
    "### Q3: What is the most common Pokemon type?"
   ]
  },
  {
   "cell_type": "code",
   "execution_count": null,
   "metadata": {
    "vscode": {
     "languageId": "javascript"
    }
   },
   "outputs": [],
   "source": [
    "combined_counts = pd.concat([type_1_counts, type_2_counts], axis=0).groupby(level=0).sum()\n",
    "combined_counts = combined_counts.sort_values(ascending=False)\n",
    "\n",
    "combined_counts.plot(kind='bar', figsize=(10, 6), color='#00aeef')"
   ]
  },
  {
   "cell_type": "markdown",
   "metadata": {},
   "source": [
    "Basic Data Exploration\n",
    "\n",
    "    How many Pokémon are in the dataset?\n",
    "    What are the different types of Pokémon (type_1_name) and how many Pokémon belong to each type?\n",
    "    Are there any missing values in the dataset? If so, in which columns?\n",
    "    What is the range of values for numerical features like height, weight, attack, defense, etc.?\n",
    "\n",
    "Descriptive Statistics\n",
    "\n",
    "    What are the mean, median, and standard deviation of numerical features such as height, weight, and attack?\n",
    "    Which Pokémon has the highest attack? Which one has the highest defense?\n",
    "    What are the top 5 fastest Pokémon in the dataset?\n",
    "    What is the distribution of Pokémon heights and weights? Are they normally distributed or skewed?\n",
    "\n",
    "Type-Based Analysis\n",
    "\n",
    "    What are the most and least common Pokémon primary types (type_1_name)?\n",
    "    What is the average attack, defense, and speed for each Pokémon type?\n",
    "    Do Pokémon with two types (type_2_name) tend to have higher or lower stats compared to single-type Pokémon?\n",
    "\n",
    "Comparing Attributes\n",
    "\n",
    "    Is there a correlation between a Pokémon's weight and its attack or defense stats?\n",
    "    Do taller Pokémon tend to have higher HP (Hit Points)?\n",
    "    How do special-attack and special-defense compare across different Pokémon types?\n",
    "    Do fire-type Pokémon generally have higher special-attack than other types?\n",
    "\n",
    "Advanced Explorations\n",
    "\n",
    "    Is there a relationship between a Pokémon’s speed and its type?\n",
    "    How does the distribution of attack values compare between physical attackers (high attack) and special attackers (high special-attack)?\n",
    "    What is the overall distribution of Pokémon by species_id? Are some species more represented than others?\n",
    "    Which type combinations (type_1_name and type_2_name) appear most frequently?\n",
    "    What insights can we gain from comparing the average stats of starter Pokémon (Bulbasaur, Charmander, Squirtle, etc.) versus legendary Pokémon?"
   ]
  }
 ],
 "metadata": {
  "kernelspec": {
   "display_name": "Python 3 (ipykernel)",
   "language": "python",
   "name": "python3"
  },
  "language_info": {
   "codemirror_mode": {
    "name": "ipython",
    "version": 3
   },
   "file_extension": ".py",
   "mimetype": "text/x-python",
   "name": "python",
   "nbconvert_exporter": "python",
   "pygments_lexer": "ipython3",
   "version": "3.12.3"
  }
 },
 "nbformat": 4,
 "nbformat_minor": 2
}
